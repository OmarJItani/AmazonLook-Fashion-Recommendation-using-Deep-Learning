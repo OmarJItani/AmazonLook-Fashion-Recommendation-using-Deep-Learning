{
 "cells": [
  {
   "cell_type": "code",
   "execution_count": 1,
   "metadata": {},
   "outputs": [],
   "source": [
    "import os\n",
    "import cv2\n",
    "\n",
    "# Define the path to the original dataset folder and the output resized dataset folder\n",
    "original_dataset_folder = \"/home/omaritani/Desktop/Amazon_Project/Dataset/Dataset_original\"\n",
    "resized_dataset_folder = \"/home/omaritani/Desktop/Amazon_Project/Dataset/Dataset_resized\"\n",
    "\n",
    "# Define the new dimensions for the resized images\n",
    "new_height = 224\n",
    "new_width = 224"
   ]
  },
  {
   "cell_type": "code",
   "execution_count": 2,
   "metadata": {},
   "outputs": [
    {
     "name": "stdout",
     "output_type": "stream",
     "text": [
      "Resizing completed.\n"
     ]
    }
   ],
   "source": [
    "# Loop through all subfolders in the original dataset folder\n",
    "for root, _, files in os.walk(original_dataset_folder):\n",
    "    for file in files:\n",
    "        if file.lower().endswith(('.png', '.jpg', '.jpeg', '.gif', '.bmp')):\n",
    "            # Construct the full path to the current image\n",
    "            image_path = os.path.join(root, file)\n",
    "\n",
    "            # Read the image\n",
    "            image = cv2.imread(image_path, cv2.COLOR_RGB2BGR)\n",
    "\n",
    "            # Resize the image\n",
    "            image_resized = cv2.resize(image, dsize=(new_height, new_width), interpolation=cv2.INTER_CUBIC)\n",
    "\n",
    "            # Get the relative path from the original dataset folder\n",
    "            relative_path = os.path.relpath(image_path, original_dataset_folder)\n",
    "\n",
    "            # Construct the full path to save the resized image in the corresponding subfolder\n",
    "            save_path = os.path.join(resized_dataset_folder, relative_path)\n",
    "\n",
    "            # Create the directory if it doesn't exist\n",
    "            os.makedirs(os.path.dirname(save_path), exist_ok=True)\n",
    "\n",
    "            # Save the resized image\n",
    "            cv2.imwrite(save_path, image_resized)\n",
    "\n",
    "print(\"Resizing completed.\")"
   ]
  },
  {
   "cell_type": "code",
   "execution_count": null,
   "metadata": {},
   "outputs": [],
   "source": []
  }
 ],
 "metadata": {
  "kernelspec": {
   "display_name": "Python 3",
   "language": "python",
   "name": "python3"
  },
  "language_info": {
   "codemirror_mode": {
    "name": "ipython",
    "version": 3
   },
   "file_extension": ".py",
   "mimetype": "text/x-python",
   "name": "python",
   "nbconvert_exporter": "python",
   "pygments_lexer": "ipython3",
   "version": "3.8.10"
  },
  "orig_nbformat": 4
 },
 "nbformat": 4,
 "nbformat_minor": 2
}
